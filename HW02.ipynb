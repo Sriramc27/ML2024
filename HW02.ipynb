{
 "cells": [
  {
   "cell_type": "code",
   "execution_count": 1,
   "id": "9420f3c9-d23c-4cc8-8ce6-e2bbc0d78f25",
   "metadata": {},
   "outputs": [],
   "source": [
    "import pandas as pd\n",
    "import numpy as np"
   ]
  },
  {
   "cell_type": "code",
   "execution_count": 3,
   "id": "b5be8f8e-a4c6-4cfa-bf28-108b3cd50eb2",
   "metadata": {},
   "outputs": [],
   "source": [
    "lapdata = 'https://raw.githubusercontent.com/alexeygrigorev/datasets/master/laptops.csv'"
   ]
  },
  {
   "cell_type": "code",
   "execution_count": 4,
   "id": "7eb4fd59-37ea-4e83-bb92-04bd2cda810d",
   "metadata": {},
   "outputs": [
    {
     "name": "stdout",
     "output_type": "stream",
     "text": [
      "100% [............................................................................] 298573 / 298573"
     ]
    }
   ],
   "source": [
    "import wget\n",
    "\n",
    "dataset = wget.download(lapdata)"
   ]
  },
  {
   "cell_type": "code",
   "execution_count": 5,
   "id": "77015d3a-f044-45c9-a03e-04dbc3265b08",
   "metadata": {},
   "outputs": [
    {
     "data": {
      "text/plain": [
       "'laptops.csv'"
      ]
     },
     "execution_count": 5,
     "metadata": {},
     "output_type": "execute_result"
    }
   ],
   "source": [
    "dataset"
   ]
  },
  {
   "cell_type": "code",
   "execution_count": 178,
   "id": "032be9cc-52f9-486d-bf03-2f8939833942",
   "metadata": {},
   "outputs": [],
   "source": [
    "df = pd.read_csv(dataset)"
   ]
  },
  {
   "cell_type": "code",
   "execution_count": 179,
   "id": "2ae89497-5fd8-4d9a-b929-a640a4e4b1fa",
   "metadata": {},
   "outputs": [
    {
     "data": {
      "text/html": [
       "<div>\n",
       "<style scoped>\n",
       "    .dataframe tbody tr th:only-of-type {\n",
       "        vertical-align: middle;\n",
       "    }\n",
       "\n",
       "    .dataframe tbody tr th {\n",
       "        vertical-align: top;\n",
       "    }\n",
       "\n",
       "    .dataframe thead th {\n",
       "        text-align: right;\n",
       "    }\n",
       "</style>\n",
       "<table border=\"1\" class=\"dataframe\">\n",
       "  <thead>\n",
       "    <tr style=\"text-align: right;\">\n",
       "      <th></th>\n",
       "      <th>Laptop</th>\n",
       "      <th>Status</th>\n",
       "      <th>Brand</th>\n",
       "      <th>Model</th>\n",
       "      <th>CPU</th>\n",
       "      <th>RAM</th>\n",
       "      <th>Storage</th>\n",
       "      <th>Storage type</th>\n",
       "      <th>GPU</th>\n",
       "      <th>Screen</th>\n",
       "      <th>Touch</th>\n",
       "      <th>Final Price</th>\n",
       "    </tr>\n",
       "  </thead>\n",
       "  <tbody>\n",
       "    <tr>\n",
       "      <th>0</th>\n",
       "      <td>ASUS ExpertBook B1 B1502CBA-EJ0436X Intel Core...</td>\n",
       "      <td>New</td>\n",
       "      <td>Asus</td>\n",
       "      <td>ExpertBook</td>\n",
       "      <td>Intel Core i5</td>\n",
       "      <td>8</td>\n",
       "      <td>512</td>\n",
       "      <td>SSD</td>\n",
       "      <td>NaN</td>\n",
       "      <td>15.6</td>\n",
       "      <td>No</td>\n",
       "      <td>1009.00</td>\n",
       "    </tr>\n",
       "    <tr>\n",
       "      <th>1</th>\n",
       "      <td>Alurin Go Start Intel Celeron N4020/8GB/256GB ...</td>\n",
       "      <td>New</td>\n",
       "      <td>Alurin</td>\n",
       "      <td>Go</td>\n",
       "      <td>Intel Celeron</td>\n",
       "      <td>8</td>\n",
       "      <td>256</td>\n",
       "      <td>SSD</td>\n",
       "      <td>NaN</td>\n",
       "      <td>15.6</td>\n",
       "      <td>No</td>\n",
       "      <td>299.00</td>\n",
       "    </tr>\n",
       "    <tr>\n",
       "      <th>2</th>\n",
       "      <td>ASUS ExpertBook B1 B1502CBA-EJ0424X Intel Core...</td>\n",
       "      <td>New</td>\n",
       "      <td>Asus</td>\n",
       "      <td>ExpertBook</td>\n",
       "      <td>Intel Core i3</td>\n",
       "      <td>8</td>\n",
       "      <td>256</td>\n",
       "      <td>SSD</td>\n",
       "      <td>NaN</td>\n",
       "      <td>15.6</td>\n",
       "      <td>No</td>\n",
       "      <td>789.00</td>\n",
       "    </tr>\n",
       "    <tr>\n",
       "      <th>3</th>\n",
       "      <td>MSI Katana GF66 12UC-082XES Intel Core i7-1270...</td>\n",
       "      <td>New</td>\n",
       "      <td>MSI</td>\n",
       "      <td>Katana</td>\n",
       "      <td>Intel Core i7</td>\n",
       "      <td>16</td>\n",
       "      <td>1000</td>\n",
       "      <td>SSD</td>\n",
       "      <td>RTX 3050</td>\n",
       "      <td>15.6</td>\n",
       "      <td>No</td>\n",
       "      <td>1199.00</td>\n",
       "    </tr>\n",
       "    <tr>\n",
       "      <th>4</th>\n",
       "      <td>HP 15S-FQ5085NS Intel Core i5-1235U/16GB/512GB...</td>\n",
       "      <td>New</td>\n",
       "      <td>HP</td>\n",
       "      <td>15S</td>\n",
       "      <td>Intel Core i5</td>\n",
       "      <td>16</td>\n",
       "      <td>512</td>\n",
       "      <td>SSD</td>\n",
       "      <td>NaN</td>\n",
       "      <td>15.6</td>\n",
       "      <td>No</td>\n",
       "      <td>669.01</td>\n",
       "    </tr>\n",
       "    <tr>\n",
       "      <th>...</th>\n",
       "      <td>...</td>\n",
       "      <td>...</td>\n",
       "      <td>...</td>\n",
       "      <td>...</td>\n",
       "      <td>...</td>\n",
       "      <td>...</td>\n",
       "      <td>...</td>\n",
       "      <td>...</td>\n",
       "      <td>...</td>\n",
       "      <td>...</td>\n",
       "      <td>...</td>\n",
       "      <td>...</td>\n",
       "    </tr>\n",
       "    <tr>\n",
       "      <th>2155</th>\n",
       "      <td>Razer Blade 17 FHD 360Hz Intel Core i7-11800H/...</td>\n",
       "      <td>Refurbished</td>\n",
       "      <td>Razer</td>\n",
       "      <td>Blade</td>\n",
       "      <td>Intel Core i7</td>\n",
       "      <td>16</td>\n",
       "      <td>1000</td>\n",
       "      <td>SSD</td>\n",
       "      <td>RTX 3060</td>\n",
       "      <td>17.3</td>\n",
       "      <td>No</td>\n",
       "      <td>2699.99</td>\n",
       "    </tr>\n",
       "    <tr>\n",
       "      <th>2156</th>\n",
       "      <td>Razer Blade 17 FHD 360Hz Intel Core i7-11800H/...</td>\n",
       "      <td>Refurbished</td>\n",
       "      <td>Razer</td>\n",
       "      <td>Blade</td>\n",
       "      <td>Intel Core i7</td>\n",
       "      <td>16</td>\n",
       "      <td>1000</td>\n",
       "      <td>SSD</td>\n",
       "      <td>RTX 3070</td>\n",
       "      <td>17.3</td>\n",
       "      <td>No</td>\n",
       "      <td>2899.99</td>\n",
       "    </tr>\n",
       "    <tr>\n",
       "      <th>2157</th>\n",
       "      <td>Razer Blade 17 FHD 360Hz Intel Core i7-11800H/...</td>\n",
       "      <td>Refurbished</td>\n",
       "      <td>Razer</td>\n",
       "      <td>Blade</td>\n",
       "      <td>Intel Core i7</td>\n",
       "      <td>32</td>\n",
       "      <td>1000</td>\n",
       "      <td>SSD</td>\n",
       "      <td>RTX 3080</td>\n",
       "      <td>17.3</td>\n",
       "      <td>No</td>\n",
       "      <td>3399.99</td>\n",
       "    </tr>\n",
       "    <tr>\n",
       "      <th>2158</th>\n",
       "      <td>Razer Book 13 Intel Evo Core i7-1165G7/16GB/1T...</td>\n",
       "      <td>Refurbished</td>\n",
       "      <td>Razer</td>\n",
       "      <td>Book</td>\n",
       "      <td>Intel Evo Core i7</td>\n",
       "      <td>16</td>\n",
       "      <td>1000</td>\n",
       "      <td>SSD</td>\n",
       "      <td>NaN</td>\n",
       "      <td>13.4</td>\n",
       "      <td>Yes</td>\n",
       "      <td>1899.99</td>\n",
       "    </tr>\n",
       "    <tr>\n",
       "      <th>2159</th>\n",
       "      <td>Razer Book FHD+ Intel Evo Core i7-1165G7/16GB/...</td>\n",
       "      <td>Refurbished</td>\n",
       "      <td>Razer</td>\n",
       "      <td>Book</td>\n",
       "      <td>Intel Evo Core i7</td>\n",
       "      <td>16</td>\n",
       "      <td>256</td>\n",
       "      <td>SSD</td>\n",
       "      <td>NaN</td>\n",
       "      <td>13.4</td>\n",
       "      <td>Yes</td>\n",
       "      <td>1699.99</td>\n",
       "    </tr>\n",
       "  </tbody>\n",
       "</table>\n",
       "<p>2160 rows × 12 columns</p>\n",
       "</div>"
      ],
      "text/plain": [
       "                                                 Laptop       Status   Brand  \\\n",
       "0     ASUS ExpertBook B1 B1502CBA-EJ0436X Intel Core...          New    Asus   \n",
       "1     Alurin Go Start Intel Celeron N4020/8GB/256GB ...          New  Alurin   \n",
       "2     ASUS ExpertBook B1 B1502CBA-EJ0424X Intel Core...          New    Asus   \n",
       "3     MSI Katana GF66 12UC-082XES Intel Core i7-1270...          New     MSI   \n",
       "4     HP 15S-FQ5085NS Intel Core i5-1235U/16GB/512GB...          New      HP   \n",
       "...                                                 ...          ...     ...   \n",
       "2155  Razer Blade 17 FHD 360Hz Intel Core i7-11800H/...  Refurbished   Razer   \n",
       "2156  Razer Blade 17 FHD 360Hz Intel Core i7-11800H/...  Refurbished   Razer   \n",
       "2157  Razer Blade 17 FHD 360Hz Intel Core i7-11800H/...  Refurbished   Razer   \n",
       "2158  Razer Book 13 Intel Evo Core i7-1165G7/16GB/1T...  Refurbished   Razer   \n",
       "2159  Razer Book FHD+ Intel Evo Core i7-1165G7/16GB/...  Refurbished   Razer   \n",
       "\n",
       "           Model                CPU  RAM  Storage Storage type       GPU  \\\n",
       "0     ExpertBook      Intel Core i5    8      512          SSD       NaN   \n",
       "1             Go      Intel Celeron    8      256          SSD       NaN   \n",
       "2     ExpertBook      Intel Core i3    8      256          SSD       NaN   \n",
       "3         Katana      Intel Core i7   16     1000          SSD  RTX 3050   \n",
       "4            15S      Intel Core i5   16      512          SSD       NaN   \n",
       "...          ...                ...  ...      ...          ...       ...   \n",
       "2155       Blade      Intel Core i7   16     1000          SSD  RTX 3060   \n",
       "2156       Blade      Intel Core i7   16     1000          SSD  RTX 3070   \n",
       "2157       Blade      Intel Core i7   32     1000          SSD  RTX 3080   \n",
       "2158        Book  Intel Evo Core i7   16     1000          SSD       NaN   \n",
       "2159        Book  Intel Evo Core i7   16      256          SSD       NaN   \n",
       "\n",
       "      Screen Touch  Final Price  \n",
       "0       15.6    No      1009.00  \n",
       "1       15.6    No       299.00  \n",
       "2       15.6    No       789.00  \n",
       "3       15.6    No      1199.00  \n",
       "4       15.6    No       669.01  \n",
       "...      ...   ...          ...  \n",
       "2155    17.3    No      2699.99  \n",
       "2156    17.3    No      2899.99  \n",
       "2157    17.3    No      3399.99  \n",
       "2158    13.4   Yes      1899.99  \n",
       "2159    13.4   Yes      1699.99  \n",
       "\n",
       "[2160 rows x 12 columns]"
      ]
     },
     "execution_count": 179,
     "metadata": {},
     "output_type": "execute_result"
    }
   ],
   "source": [
    "df"
   ]
  },
  {
   "cell_type": "code",
   "execution_count": 180,
   "id": "ac4443ce-7f0c-4dbe-9ead-7df736b8c573",
   "metadata": {},
   "outputs": [],
   "source": [
    "df.columns = df.columns.str.lower().str.replace(' ', '_')"
   ]
  },
  {
   "cell_type": "code",
   "execution_count": 181,
   "id": "fd7bfb22-4f06-45cd-908d-aa98eef39a64",
   "metadata": {},
   "outputs": [
    {
     "data": {
      "text/plain": [
       "Index(['laptop', 'status', 'brand', 'model', 'cpu', 'ram', 'storage',\n",
       "       'storage_type', 'gpu', 'screen', 'touch', 'final_price'],\n",
       "      dtype='object')"
      ]
     },
     "execution_count": 181,
     "metadata": {},
     "output_type": "execute_result"
    }
   ],
   "source": [
    "df.columns"
   ]
  },
  {
   "cell_type": "code",
   "execution_count": 182,
   "id": "d08e69cf-4396-45a4-8431-1a90c19b6205",
   "metadata": {},
   "outputs": [
    {
     "data": {
      "text/plain": [
       "laptop           object\n",
       "status           object\n",
       "brand            object\n",
       "model            object\n",
       "cpu              object\n",
       "ram               int64\n",
       "storage           int64\n",
       "storage_type     object\n",
       "gpu              object\n",
       "screen          float64\n",
       "touch            object\n",
       "final_price     float64\n",
       "dtype: object"
      ]
     },
     "execution_count": 182,
     "metadata": {},
     "output_type": "execute_result"
    }
   ],
   "source": [
    "df.dtypes"
   ]
  },
  {
   "cell_type": "code",
   "execution_count": 183,
   "id": "7890b317-7688-40fe-8880-0c2ec788760d",
   "metadata": {},
   "outputs": [
    {
     "data": {
      "text/plain": [
       "['ram', 'storage', 'screen', 'final_price']"
      ]
     },
     "execution_count": 183,
     "metadata": {},
     "output_type": "execute_result"
    }
   ],
   "source": [
    "num = list(df.dtypes[(df.dtypes == 'int64') | (df.dtypes == 'float64')].index)\n",
    "num"
   ]
  },
  {
   "cell_type": "code",
   "execution_count": 184,
   "id": "b19139e2-bf25-41b9-bc92-b9b570694a93",
   "metadata": {},
   "outputs": [],
   "source": [
    "import matplotlib.pyplot as plt\n",
    "import seaborn as sns\n",
    "\n",
    "%matplotlib inline"
   ]
  },
  {
   "cell_type": "code",
   "execution_count": 185,
   "id": "c6852dc3-2b12-4713-b07d-5345faef2fa6",
   "metadata": {},
   "outputs": [
    {
     "name": "stderr",
     "output_type": "stream",
     "text": [
      "C:\\Users\\srira\\anaconda3\\envs\\ml-zoomcamp\\lib\\site-packages\\seaborn\\_oldcore.py:1119: FutureWarning: use_inf_as_na option is deprecated and will be removed in a future version. Convert inf values to NaN before operating instead.\n",
      "  with pd.option_context('mode.use_inf_as_na', True):\n"
     ]
    },
    {
     "data": {
      "text/plain": [
       "<Axes: xlabel='final_price', ylabel='Count'>"
      ]
     },
     "execution_count": 185,
     "metadata": {},
     "output_type": "execute_result"
    },
    {
     "data": {
      "image/png": "[encoded data removed]",
      "text/plain": [
       "<Figure size 640x480 with 1 Axes>"
      ]
     },
     "metadata": {},
     "output_type": "display_data"
    }
   ],
   "source": [
    "sns.histplot(df['final_price'], bins = 30)"
   ]
  },
  {
   "cell_type": "code",
   "execution_count": 186,
   "id": "4b4989c8-234d-4146-87bb-2cee2a9b0fa8",
   "metadata": {},
   "outputs": [
    {
     "data": {
      "text/plain": [
       "screen    4\n",
       "dtype: int64"
      ]
     },
     "execution_count": 186,
     "metadata": {},
     "output_type": "execute_result"
    }
   ],
   "source": [
    "missing_values = df[['ram', 'storage', 'screen', 'final_price']].isnull().sum()\n",
    "missing_column"
   ]
  },
  {
   "cell_type": "code",
   "execution_count": 187,
   "id": "00824cf0-7c7e-4093-996b-e0a54bb53ff3",
   "metadata": {},
   "outputs": [],
   "source": [
    "med = df['ram'].median()"
   ]
  },
  {
   "cell_type": "code",
   "execution_count": 188,
   "id": "a1e462ac-43fa-44e8-a9cb-edc59064988d",
   "metadata": {},
   "outputs": [
    {
     "data": {
      "text/plain": [
       "16.0"
      ]
     },
     "execution_count": 188,
     "metadata": {},
     "output_type": "execute_result"
    }
   ],
   "source": [
    "med"
   ]
  },
  {
   "cell_type": "code",
   "execution_count": 189,
   "id": "9d056d4c-5fec-4e6a-93b4-f20221de7e26",
   "metadata": {},
   "outputs": [
    {
     "data": {
      "text/html": [
       "<div>\n",
       "<style scoped>\n",
       "    .dataframe tbody tr th:only-of-type {\n",
       "        vertical-align: middle;\n",
       "    }\n",
       "\n",
       "    .dataframe tbody tr th {\n",
       "        vertical-align: top;\n",
       "    }\n",
       "\n",
       "    .dataframe thead th {\n",
       "        text-align: right;\n",
       "    }\n",
       "</style>\n",
       "<table border=\"1\" class=\"dataframe\">\n",
       "  <thead>\n",
       "    <tr style=\"text-align: right;\">\n",
       "      <th></th>\n",
       "      <th>ram</th>\n",
       "      <th>storage</th>\n",
       "      <th>screen</th>\n",
       "      <th>final_price</th>\n",
       "    </tr>\n",
       "  </thead>\n",
       "  <tbody>\n",
       "    <tr>\n",
       "      <th>0</th>\n",
       "      <td>8</td>\n",
       "      <td>512</td>\n",
       "      <td>15.6</td>\n",
       "      <td>1009.00</td>\n",
       "    </tr>\n",
       "    <tr>\n",
       "      <th>1</th>\n",
       "      <td>8</td>\n",
       "      <td>256</td>\n",
       "      <td>15.6</td>\n",
       "      <td>299.00</td>\n",
       "    </tr>\n",
       "    <tr>\n",
       "      <th>2</th>\n",
       "      <td>8</td>\n",
       "      <td>256</td>\n",
       "      <td>15.6</td>\n",
       "      <td>789.00</td>\n",
       "    </tr>\n",
       "    <tr>\n",
       "      <th>3</th>\n",
       "      <td>16</td>\n",
       "      <td>1000</td>\n",
       "      <td>15.6</td>\n",
       "      <td>1199.00</td>\n",
       "    </tr>\n",
       "    <tr>\n",
       "      <th>4</th>\n",
       "      <td>16</td>\n",
       "      <td>512</td>\n",
       "      <td>15.6</td>\n",
       "      <td>669.01</td>\n",
       "    </tr>\n",
       "    <tr>\n",
       "      <th>...</th>\n",
       "      <td>...</td>\n",
       "      <td>...</td>\n",
       "      <td>...</td>\n",
       "      <td>...</td>\n",
       "    </tr>\n",
       "    <tr>\n",
       "      <th>2155</th>\n",
       "      <td>16</td>\n",
       "      <td>1000</td>\n",
       "      <td>17.3</td>\n",
       "      <td>2699.99</td>\n",
       "    </tr>\n",
       "    <tr>\n",
       "      <th>2156</th>\n",
       "      <td>16</td>\n",
       "      <td>1000</td>\n",
       "      <td>17.3</td>\n",
       "      <td>2899.99</td>\n",
       "    </tr>\n",
       "    <tr>\n",
       "      <th>2157</th>\n",
       "      <td>32</td>\n",
       "      <td>1000</td>\n",
       "      <td>17.3</td>\n",
       "      <td>3399.99</td>\n",
       "    </tr>\n",
       "    <tr>\n",
       "      <th>2158</th>\n",
       "      <td>16</td>\n",
       "      <td>1000</td>\n",
       "      <td>13.4</td>\n",
       "      <td>1899.99</td>\n",
       "    </tr>\n",
       "    <tr>\n",
       "      <th>2159</th>\n",
       "      <td>16</td>\n",
       "      <td>256</td>\n",
       "      <td>13.4</td>\n",
       "      <td>1699.99</td>\n",
       "    </tr>\n",
       "  </tbody>\n",
       "</table>\n",
       "<p>2160 rows × 4 columns</p>\n",
       "</div>"
      ],
      "text/plain": [
       "      ram  storage  screen  final_price\n",
       "0       8      512    15.6      1009.00\n",
       "1       8      256    15.6       299.00\n",
       "2       8      256    15.6       789.00\n",
       "3      16     1000    15.6      1199.00\n",
       "4      16      512    15.6       669.01\n",
       "...   ...      ...     ...          ...\n",
       "2155   16     1000    17.3      2699.99\n",
       "2156   16     1000    17.3      2899.99\n",
       "2157   32     1000    17.3      3399.99\n",
       "2158   16     1000    13.4      1899.99\n",
       "2159   16      256    13.4      1699.99\n",
       "\n",
       "[2160 rows x 4 columns]"
      ]
     },
     "execution_count": 189,
     "metadata": {},
     "output_type": "execute_result"
    }
   ],
   "source": [
    "filtered_df = df[['ram', 'storage', 'screen', 'final_price']]\n",
    "filtered_df"
   ]
  },
  {
   "cell_type": "code",
   "execution_count": 190,
   "id": "c9031aea-2116-4b80-8413-1e38133ad977",
   "metadata": {},
   "outputs": [],
   "source": [
    "n = len(filtered_df)"
   ]
  },
  {
   "cell_type": "code",
   "execution_count": 191,
   "id": "b52cccb2-7c96-4335-a5f8-cb99423c7511",
   "metadata": {},
   "outputs": [],
   "source": [
    "n_val = int(n * 0.2)\n",
    "n_test = int(n * 0.2)\n",
    "n_train = n - n_val - n_test"
   ]
  },
  {
   "cell_type": "code",
   "execution_count": 192,
   "id": "8f5b091e-c7f7-4570-a510-5419a0e23d5c",
   "metadata": {},
   "outputs": [
    {
     "data": {
      "text/plain": [
       "(2160, 2160)"
      ]
     },
     "execution_count": 192,
     "metadata": {},
     "output_type": "execute_result"
    }
   ],
   "source": [
    "n, n_val + n_test + n_train"
   ]
  },
  {
   "cell_type": "code",
   "execution_count": 193,
   "id": "9ef668e3-8f78-4364-94c7-a732103bae87",
   "metadata": {},
   "outputs": [],
   "source": [
    "idx = np.arange(n)"
   ]
  },
  {
   "cell_type": "code",
   "execution_count": 194,
   "id": "b9656a4b-3de4-47a9-8b2b-e06405c629e9",
   "metadata": {},
   "outputs": [],
   "source": [
    "np.random.seed(42)\n",
    "np.random.shuffle(idx)"
   ]
  },
  {
   "cell_type": "code",
   "execution_count": 195,
   "id": "631e9a53-eff8-4044-8041-8b59a681c553",
   "metadata": {},
   "outputs": [],
   "source": [
    "df_train = filtered_df.iloc[idx[:n_train]]\n",
    "df_val = filtered_df.iloc[idx[n_train:n_val+n_train]]\n",
    "df_test = filtered_df.iloc[idx[n_val + n_train:]]"
   ]
  },
  {
   "cell_type": "code",
   "execution_count": 196,
   "id": "7908a242-1ced-4583-a59a-da77104eca06",
   "metadata": {},
   "outputs": [
    {
     "data": {
      "text/html": [
       "<div>\n",
       "<style scoped>\n",
       "    .dataframe tbody tr th:only-of-type {\n",
       "        vertical-align: middle;\n",
       "    }\n",
       "\n",
       "    .dataframe tbody tr th {\n",
       "        vertical-align: top;\n",
       "    }\n",
       "\n",
       "    .dataframe thead th {\n",
       "        text-align: right;\n",
       "    }\n",
       "</style>\n",
       "<table border=\"1\" class=\"dataframe\">\n",
       "  <thead>\n",
       "    <tr style=\"text-align: right;\">\n",
       "      <th></th>\n",
       "      <th>ram</th>\n",
       "      <th>storage</th>\n",
       "      <th>screen</th>\n",
       "      <th>final_price</th>\n",
       "    </tr>\n",
       "  </thead>\n",
       "  <tbody>\n",
       "    <tr>\n",
       "      <th>2079</th>\n",
       "      <td>32</td>\n",
       "      <td>1000</td>\n",
       "      <td>15.6</td>\n",
       "      <td>1123.29</td>\n",
       "    </tr>\n",
       "    <tr>\n",
       "      <th>668</th>\n",
       "      <td>4</td>\n",
       "      <td>64</td>\n",
       "      <td>14.1</td>\n",
       "      <td>201.05</td>\n",
       "    </tr>\n",
       "    <tr>\n",
       "      <th>2073</th>\n",
       "      <td>32</td>\n",
       "      <td>1000</td>\n",
       "      <td>14.0</td>\n",
       "      <td>997.74</td>\n",
       "    </tr>\n",
       "    <tr>\n",
       "      <th>1113</th>\n",
       "      <td>16</td>\n",
       "      <td>512</td>\n",
       "      <td>13.3</td>\n",
       "      <td>1016.00</td>\n",
       "    </tr>\n",
       "    <tr>\n",
       "      <th>788</th>\n",
       "      <td>32</td>\n",
       "      <td>1000</td>\n",
       "      <td>16.0</td>\n",
       "      <td>2739.00</td>\n",
       "    </tr>\n",
       "    <tr>\n",
       "      <th>...</th>\n",
       "      <td>...</td>\n",
       "      <td>...</td>\n",
       "      <td>...</td>\n",
       "      <td>...</td>\n",
       "    </tr>\n",
       "    <tr>\n",
       "      <th>1777</th>\n",
       "      <td>8</td>\n",
       "      <td>256</td>\n",
       "      <td>14.0</td>\n",
       "      <td>549.00</td>\n",
       "    </tr>\n",
       "    <tr>\n",
       "      <th>183</th>\n",
       "      <td>32</td>\n",
       "      <td>1000</td>\n",
       "      <td>16.0</td>\n",
       "      <td>1999.00</td>\n",
       "    </tr>\n",
       "    <tr>\n",
       "      <th>137</th>\n",
       "      <td>16</td>\n",
       "      <td>512</td>\n",
       "      <td>15.6</td>\n",
       "      <td>1059.00</td>\n",
       "    </tr>\n",
       "    <tr>\n",
       "      <th>899</th>\n",
       "      <td>16</td>\n",
       "      <td>512</td>\n",
       "      <td>14.0</td>\n",
       "      <td>1671.00</td>\n",
       "    </tr>\n",
       "    <tr>\n",
       "      <th>796</th>\n",
       "      <td>16</td>\n",
       "      <td>512</td>\n",
       "      <td>14.0</td>\n",
       "      <td>1056.00</td>\n",
       "    </tr>\n",
       "  </tbody>\n",
       "</table>\n",
       "<p>1296 rows × 4 columns</p>\n",
       "</div>"
      ],
      "text/plain": [
       "      ram  storage  screen  final_price\n",
       "2079   32     1000    15.6      1123.29\n",
       "668     4       64    14.1       201.05\n",
       "2073   32     1000    14.0       997.74\n",
       "1113   16      512    13.3      1016.00\n",
       "788    32     1000    16.0      2739.00\n",
       "...   ...      ...     ...          ...\n",
       "1777    8      256    14.0       549.00\n",
       "183    32     1000    16.0      1999.00\n",
       "137    16      512    15.6      1059.00\n",
       "899    16      512    14.0      1671.00\n",
       "796    16      512    14.0      1056.00\n",
       "\n",
       "[1296 rows x 4 columns]"
      ]
     },
     "execution_count": 196,
     "metadata": {},
     "output_type": "execute_result"
    }
   ],
   "source": [
    "df_train"
   ]
  },
  {
   "cell_type": "code",
   "execution_count": 197,
   "id": "4c630c8d-a75a-419a-b045-a4786272679c",
   "metadata": {},
   "outputs": [],
   "source": [
    "df_train = df_train.reset_index(drop=True)\n",
    "df_val = df_val.reset_index(drop=True)\n",
    "df_test = df_test.reset_index(drop=True)"
   ]
  },
  {
   "cell_type": "code",
   "execution_count": 198,
   "id": "5c2f3d30-2f83-4662-ace4-390390ca4b8f",
   "metadata": {},
   "outputs": [
    {
     "data": {
      "text/html": [
       "<div>\n",
       "<style scoped>\n",
       "    .dataframe tbody tr th:only-of-type {\n",
       "        vertical-align: middle;\n",
       "    }\n",
       "\n",
       "    .dataframe tbody tr th {\n",
       "        vertical-align: top;\n",
       "    }\n",
       "\n",
       "    .dataframe thead th {\n",
       "        text-align: right;\n",
       "    }\n",
       "</style>\n",
       "<table border=\"1\" class=\"dataframe\">\n",
       "  <thead>\n",
       "    <tr style=\"text-align: right;\">\n",
       "      <th></th>\n",
       "      <th>ram</th>\n",
       "      <th>storage</th>\n",
       "      <th>screen</th>\n",
       "      <th>final_price</th>\n",
       "    </tr>\n",
       "  </thead>\n",
       "  <tbody>\n",
       "    <tr>\n",
       "      <th>0</th>\n",
       "      <td>32</td>\n",
       "      <td>1000</td>\n",
       "      <td>15.6</td>\n",
       "      <td>1123.29</td>\n",
       "    </tr>\n",
       "    <tr>\n",
       "      <th>1</th>\n",
       "      <td>4</td>\n",
       "      <td>64</td>\n",
       "      <td>14.1</td>\n",
       "      <td>201.05</td>\n",
       "    </tr>\n",
       "    <tr>\n",
       "      <th>2</th>\n",
       "      <td>32</td>\n",
       "      <td>1000</td>\n",
       "      <td>14.0</td>\n",
       "      <td>997.74</td>\n",
       "    </tr>\n",
       "    <tr>\n",
       "      <th>3</th>\n",
       "      <td>16</td>\n",
       "      <td>512</td>\n",
       "      <td>13.3</td>\n",
       "      <td>1016.00</td>\n",
       "    </tr>\n",
       "    <tr>\n",
       "      <th>4</th>\n",
       "      <td>32</td>\n",
       "      <td>1000</td>\n",
       "      <td>16.0</td>\n",
       "      <td>2739.00</td>\n",
       "    </tr>\n",
       "    <tr>\n",
       "      <th>...</th>\n",
       "      <td>...</td>\n",
       "      <td>...</td>\n",
       "      <td>...</td>\n",
       "      <td>...</td>\n",
       "    </tr>\n",
       "    <tr>\n",
       "      <th>1291</th>\n",
       "      <td>8</td>\n",
       "      <td>256</td>\n",
       "      <td>14.0</td>\n",
       "      <td>549.00</td>\n",
       "    </tr>\n",
       "    <tr>\n",
       "      <th>1292</th>\n",
       "      <td>32</td>\n",
       "      <td>1000</td>\n",
       "      <td>16.0</td>\n",
       "      <td>1999.00</td>\n",
       "    </tr>\n",
       "    <tr>\n",
       "      <th>1293</th>\n",
       "      <td>16</td>\n",
       "      <td>512</td>\n",
       "      <td>15.6</td>\n",
       "      <td>1059.00</td>\n",
       "    </tr>\n",
       "    <tr>\n",
       "      <th>1294</th>\n",
       "      <td>16</td>\n",
       "      <td>512</td>\n",
       "      <td>14.0</td>\n",
       "      <td>1671.00</td>\n",
       "    </tr>\n",
       "    <tr>\n",
       "      <th>1295</th>\n",
       "      <td>16</td>\n",
       "      <td>512</td>\n",
       "      <td>14.0</td>\n",
       "      <td>1056.00</td>\n",
       "    </tr>\n",
       "  </tbody>\n",
       "</table>\n",
       "<p>1296 rows × 4 columns</p>\n",
       "</div>"
      ],
      "text/plain": [
       "      ram  storage  screen  final_price\n",
       "0      32     1000    15.6      1123.29\n",
       "1       4       64    14.1       201.05\n",
       "2      32     1000    14.0       997.74\n",
       "3      16      512    13.3      1016.00\n",
       "4      32     1000    16.0      2739.00\n",
       "...   ...      ...     ...          ...\n",
       "1291    8      256    14.0       549.00\n",
       "1292   32     1000    16.0      1999.00\n",
       "1293   16      512    15.6      1059.00\n",
       "1294   16      512    14.0      1671.00\n",
       "1295   16      512    14.0      1056.00\n",
       "\n",
       "[1296 rows x 4 columns]"
      ]
     },
     "execution_count": 198,
     "metadata": {},
     "output_type": "execute_result"
    }
   ],
   "source": [
    "df_train"
   ]
  },
  {
   "cell_type": "code",
   "execution_count": 199,
   "id": "7123938c-a1ba-4453-a7d5-708dab84b428",
   "metadata": {},
   "outputs": [
    {
     "data": {
      "text/plain": [
       "ram            0\n",
       "storage        0\n",
       "screen         3\n",
       "final_price    0\n",
       "dtype: int64"
      ]
     },
     "execution_count": 199,
     "metadata": {},
     "output_type": "execute_result"
    }
   ],
   "source": [
    "df_train.isna().sum()"
   ]
  },
  {
   "cell_type": "code",
   "execution_count": 200,
   "id": "0a6dc93c-be22-4472-b01e-5df52e630c13",
   "metadata": {},
   "outputs": [],
   "source": [
    "y_train = df_train.final_price.values\n",
    "y_val = df_val.final_price.values\n",
    "y_test = df_test.final_price.values"
   ]
  },
  {
   "cell_type": "code",
   "execution_count": 201,
   "id": "376204b8-a72d-40ef-af2f-cdf9087406af",
   "metadata": {},
   "outputs": [
    {
     "data": {
      "text/plain": [
       "array([1123.29,  201.05,  997.74, ..., 1059.  , 1671.  , 1056.  ])"
      ]
     },
     "execution_count": 201,
     "metadata": {},
     "output_type": "execute_result"
    }
   ],
   "source": [
    "y_train"
   ]
  },
  {
   "cell_type": "code",
   "execution_count": 202,
   "id": "d961a9b3-e316-4dbb-bcd1-7235fb871b74",
   "metadata": {},
   "outputs": [],
   "source": [
    "del df_train['final_price']\n",
    "del df_val['final_price']\n",
    "del df_test['final_price']"
   ]
  },
  {
   "cell_type": "code",
   "execution_count": 203,
   "id": "5744e171-a025-4980-bfd1-53a522df58fb",
   "metadata": {},
   "outputs": [
    {
     "data": {
      "text/html": [
       "<div>\n",
       "<style scoped>\n",
       "    .dataframe tbody tr th:only-of-type {\n",
       "        vertical-align: middle;\n",
       "    }\n",
       "\n",
       "    .dataframe tbody tr th {\n",
       "        vertical-align: top;\n",
       "    }\n",
       "\n",
       "    .dataframe thead th {\n",
       "        text-align: right;\n",
       "    }\n",
       "</style>\n",
       "<table border=\"1\" class=\"dataframe\">\n",
       "  <thead>\n",
       "    <tr style=\"text-align: right;\">\n",
       "      <th></th>\n",
       "      <th>ram</th>\n",
       "      <th>storage</th>\n",
       "      <th>screen</th>\n",
       "    </tr>\n",
       "  </thead>\n",
       "  <tbody>\n",
       "    <tr>\n",
       "      <th>0</th>\n",
       "      <td>32</td>\n",
       "      <td>1000</td>\n",
       "      <td>15.6</td>\n",
       "    </tr>\n",
       "    <tr>\n",
       "      <th>1</th>\n",
       "      <td>4</td>\n",
       "      <td>64</td>\n",
       "      <td>14.1</td>\n",
       "    </tr>\n",
       "    <tr>\n",
       "      <th>2</th>\n",
       "      <td>32</td>\n",
       "      <td>1000</td>\n",
       "      <td>14.0</td>\n",
       "    </tr>\n",
       "    <tr>\n",
       "      <th>3</th>\n",
       "      <td>16</td>\n",
       "      <td>512</td>\n",
       "      <td>13.3</td>\n",
       "    </tr>\n",
       "    <tr>\n",
       "      <th>4</th>\n",
       "      <td>32</td>\n",
       "      <td>1000</td>\n",
       "      <td>16.0</td>\n",
       "    </tr>\n",
       "    <tr>\n",
       "      <th>...</th>\n",
       "      <td>...</td>\n",
       "      <td>...</td>\n",
       "      <td>...</td>\n",
       "    </tr>\n",
       "    <tr>\n",
       "      <th>1291</th>\n",
       "      <td>8</td>\n",
       "      <td>256</td>\n",
       "      <td>14.0</td>\n",
       "    </tr>\n",
       "    <tr>\n",
       "      <th>1292</th>\n",
       "      <td>32</td>\n",
       "      <td>1000</td>\n",
       "      <td>16.0</td>\n",
       "    </tr>\n",
       "    <tr>\n",
       "      <th>1293</th>\n",
       "      <td>16</td>\n",
       "      <td>512</td>\n",
       "      <td>15.6</td>\n",
       "    </tr>\n",
       "    <tr>\n",
       "      <th>1294</th>\n",
       "      <td>16</td>\n",
       "      <td>512</td>\n",
       "      <td>14.0</td>\n",
       "    </tr>\n",
       "    <tr>\n",
       "      <th>1295</th>\n",
       "      <td>16</td>\n",
       "      <td>512</td>\n",
       "      <td>14.0</td>\n",
       "    </tr>\n",
       "  </tbody>\n",
       "</table>\n",
       "<p>1296 rows × 3 columns</p>\n",
       "</div>"
      ],
      "text/plain": [
       "      ram  storage  screen\n",
       "0      32     1000    15.6\n",
       "1       4       64    14.1\n",
       "2      32     1000    14.0\n",
       "3      16      512    13.3\n",
       "4      32     1000    16.0\n",
       "...   ...      ...     ...\n",
       "1291    8      256    14.0\n",
       "1292   32     1000    16.0\n",
       "1293   16      512    15.6\n",
       "1294   16      512    14.0\n",
       "1295   16      512    14.0\n",
       "\n",
       "[1296 rows x 3 columns]"
      ]
     },
     "execution_count": 203,
     "metadata": {},
     "output_type": "execute_result"
    }
   ],
   "source": [
    "df_train"
   ]
  },
  {
   "cell_type": "code",
   "execution_count": 204,
   "id": "96894d45-a7c5-4d90-a0d7-9a9558da5dc9",
   "metadata": {},
   "outputs": [],
   "source": [
    "df_train_0 = df_train.copy()\n",
    "df_val_0 = df_val.copy()\n",
    "df_test_0 = df_test.copy()\n",
    "\n",
    "df_train_0['screen'] = df_train_0['screen'].fillna(0)\n",
    "df_val_0['screen'] = df_val_0['screen'].fillna(0)\n",
    "df_test_0['screen'] = df_test_0['screen'].fillna(0)"
   ]
  },
  {
   "cell_type": "code",
   "execution_count": 205,
   "id": "ed68da41-7dc9-40a0-8386-f28105a22c3c",
   "metadata": {},
   "outputs": [
    {
     "data": {
      "text/plain": [
       "ram        0\n",
       "storage    0\n",
       "screen     0\n",
       "dtype: int64"
      ]
     },
     "execution_count": 205,
     "metadata": {},
     "output_type": "execute_result"
    }
   ],
   "source": [
    "df_train_0.isnull().sum()"
   ]
  },
  {
   "cell_type": "code",
   "execution_count": 206,
   "id": "0e6ad3de-aae2-4d23-9e95-f444683700f8",
   "metadata": {},
   "outputs": [],
   "source": [
    "screen_mean = df_train['screen'].mean()"
   ]
  },
  {
   "cell_type": "code",
   "execution_count": 207,
   "id": "44a3896d-4acb-4e40-897b-59e7513e3b29",
   "metadata": {},
   "outputs": [],
   "source": [
    "df_train_mean = df_train.copy()\n",
    "df_val_mean = df_val.copy()\n",
    "df_test_mean = df_test.copy()\n",
    "\n",
    "df_train_mean['screen'] = df_train_mean['screen'].fillna(screen_mean)\n",
    "df_val_mean['screen'] = df_val_mean['screen'].fillna(screen_mean)\n",
    "df_test_mean['screen'] = df_test_mean['screen'].fillna(screen_mean)"
   ]
  },
  {
   "cell_type": "code",
   "execution_count": 208,
   "id": "9f1f7953-6f97-444e-81e6-aa3090ad4f4a",
   "metadata": {},
   "outputs": [
    {
     "data": {
      "text/plain": [
       "ram        0\n",
       "storage    0\n",
       "screen     0\n",
       "dtype: int64"
      ]
     },
     "execution_count": 208,
     "metadata": {},
     "output_type": "execute_result"
    }
   ],
   "source": [
    "df_train_mean.isna().sum()"
   ]
  },
  {
   "cell_type": "code",
   "execution_count": 209,
   "id": "3883837b-2797-488f-97ac-324ae2ed353c",
   "metadata": {},
   "outputs": [],
   "source": [
    "def train_linear_regression(X, y):\n",
    "    ones = np.ones(X.shape[0])\n",
    "    X = np.column_stack([ones, X])\n",
    "\n",
    "    XTX = X.T.dot(X)\n",
    "    XTX_inv = np.linalg.inv(XTX)\n",
    "    w_full = XTX_inv.dot(X.T).dot(y)\n",
    "    \n",
    "    return w_full[0], w_full[1:]"
   ]
  },
  {
   "cell_type": "code",
   "execution_count": 210,
   "id": "b5af0462-39ff-4479-af5d-18455e8e4258",
   "metadata": {},
   "outputs": [],
   "source": [
    "def rmse(y, y_pred):\n",
    "    se = (y - y_pred) ** 2\n",
    "    mse = se.mean()\n",
    "    return np.sqrt(mse)"
   ]
  },
  {
   "cell_type": "code",
   "execution_count": 211,
   "id": "a7459498-f420-4db7-880d-33d9e3574d32",
   "metadata": {},
   "outputs": [],
   "source": [
    "x_train_0 = df_train_0.values\n",
    "x_val_0 = df_val_0.values"
   ]
  },
  {
   "cell_type": "code",
   "execution_count": 212,
   "id": "b27ab265-553e-40c7-9469-e9bd61497c38",
   "metadata": {},
   "outputs": [],
   "source": [
    "w0_0, w_0 = train_linear_regression(x_train_0, y_train)\n",
    "y_pred_0 = w0_0 + x_val_0.dot(w_0)\n",
    "rmse_0 = rmse(y_val, y_pred_0)"
   ]
  },
  {
   "cell_type": "code",
   "execution_count": 213,
   "id": "c5011863-f3ee-4bd7-9a4d-703291ff5748",
   "metadata": {},
   "outputs": [
    {
     "data": {
      "text/plain": [
       "597.3635593619621"
      ]
     },
     "execution_count": 213,
     "metadata": {},
     "output_type": "execute_result"
    }
   ],
   "source": [
    "rmse_0"
   ]
  },
  {
   "cell_type": "code",
   "execution_count": 214,
   "id": "00917629-9540-4083-831e-dc0802d21439",
   "metadata": {},
   "outputs": [
    {
     "data": {
      "text/plain": [
       "597.36"
      ]
     },
     "execution_count": 214,
     "metadata": {},
     "output_type": "execute_result"
    }
   ],
   "source": [
    "round(rmse_0, 2)"
   ]
  },
  {
   "cell_type": "code",
   "execution_count": 215,
   "id": "74f1fd08-4922-4c75-bda5-aca48a52e07b",
   "metadata": {},
   "outputs": [],
   "source": [
    "x_train_mean = df_train_mean.values\n",
    "x_val_mean = df_val_mean.values"
   ]
  },
  {
   "cell_type": "code",
   "execution_count": 216,
   "id": "260c5eec-7895-43b0-9a8c-3e6dd7722a26",
   "metadata": {},
   "outputs": [],
   "source": [
    "w0_mean, w_mean = train_linear_regression(x_train_mean, y_train)\n",
    "y_pred_mean = w0_mean + x_val_mean.dot(w_mean)\n",
    "rmse_mean = rmse(y_val, y_pred_mean)"
   ]
  },
  {
   "cell_type": "code",
   "execution_count": 217,
   "id": "b5ee3dda-b993-4005-b9b6-75b5fa174290",
   "metadata": {},
   "outputs": [
    {
     "data": {
      "text/plain": [
       "600.2650313748422"
      ]
     },
     "execution_count": 217,
     "metadata": {},
     "output_type": "execute_result"
    }
   ],
   "source": [
    "rmse_mean"
   ]
  },
  {
   "cell_type": "code",
   "execution_count": 218,
   "id": "7940e434-c1eb-4691-80a6-61fb61eced45",
   "metadata": {},
   "outputs": [
    {
     "data": {
      "text/plain": [
       "600.27"
      ]
     },
     "execution_count": 218,
     "metadata": {},
     "output_type": "execute_result"
    }
   ],
   "source": [
    "round(rmse_mean, 2)"
   ]
  },
  {
   "cell_type": "code",
   "execution_count": 219,
   "id": "ab4b2cd4-10b7-4940-a543-e43bc87e5c7a",
   "metadata": {},
   "outputs": [],
   "source": [
    "def train_linear_regression_reg(X, y, r=0.001):\n",
    "    ones = np.ones(X.shape[0])\n",
    "    X = np.column_stack([ones, X])\n",
    "\n",
    "    XTX = X.T.dot(X)\n",
    "    XTX = XTX + r * np.eye(XTX.shape[0])\n",
    "    \n",
    "    XTX_inv = np.linalg.inv(XTX)\n",
    "    w_full = XTX_inv.dot(X.T).dot(y)\n",
    "    \n",
    "    return w_full[0], w_full[1:]"
   ]
  },
  {
   "cell_type": "code",
   "execution_count": 220,
   "id": "20f33903-07d3-4ff4-9414-8fbdbd46cc23",
   "metadata": {},
   "outputs": [
    {
     "name": "stdout",
     "output_type": "stream",
     "text": [
      "0 676.8954853003158 597.36\n",
      "0.01 676.2736817204283 597.36\n",
      "0.1 670.7284836312938 597.35\n",
      "1 619.9030834107112 597.21\n",
      "5 463.77716971420216 597.01\n",
      "10 352.79713367677226 597.06\n",
      "100 66.92071440180858 597.9\n"
     ]
    }
   ],
   "source": [
    "for r in [0, 0.01, 0.1, 1, 5, 10, 100]:\n",
    "    x_train_0 = df_train_0.values\n",
    "    w0, w = train_linear_regression_reg(x_train_0, y_train, r=r)\n",
    "\n",
    "    x_val_0 = df_val_0.values\n",
    "    y_pred = w0 +x_val_0.dot(w)\n",
    "    score = rmse(y_val, y_pred)\n",
    "    \n",
    "    print(r, w0, round(score, 2))"
   ]
  },
  {
   "cell_type": "code",
   "execution_count": 221,
   "id": "50bb1de0-0992-4b30-b1f2-6536bd7f4db0",
   "metadata": {},
   "outputs": [
    {
     "data": {
      "text/html": [
       "<div>\n",
       "<style scoped>\n",
       "    .dataframe tbody tr th:only-of-type {\n",
       "        vertical-align: middle;\n",
       "    }\n",
       "\n",
       "    .dataframe tbody tr th {\n",
       "        vertical-align: top;\n",
       "    }\n",
       "\n",
       "    .dataframe thead th {\n",
       "        text-align: right;\n",
       "    }\n",
       "</style>\n",
       "<table border=\"1\" class=\"dataframe\">\n",
       "  <thead>\n",
       "    <tr style=\"text-align: right;\">\n",
       "      <th></th>\n",
       "      <th>ram</th>\n",
       "      <th>storage</th>\n",
       "      <th>screen</th>\n",
       "      <th>final_price</th>\n",
       "    </tr>\n",
       "  </thead>\n",
       "  <tbody>\n",
       "    <tr>\n",
       "      <th>0</th>\n",
       "      <td>8</td>\n",
       "      <td>512</td>\n",
       "      <td>15.6</td>\n",
       "      <td>1009.00</td>\n",
       "    </tr>\n",
       "    <tr>\n",
       "      <th>1</th>\n",
       "      <td>8</td>\n",
       "      <td>256</td>\n",
       "      <td>15.6</td>\n",
       "      <td>299.00</td>\n",
       "    </tr>\n",
       "    <tr>\n",
       "      <th>2</th>\n",
       "      <td>8</td>\n",
       "      <td>256</td>\n",
       "      <td>15.6</td>\n",
       "      <td>789.00</td>\n",
       "    </tr>\n",
       "    <tr>\n",
       "      <th>3</th>\n",
       "      <td>16</td>\n",
       "      <td>1000</td>\n",
       "      <td>15.6</td>\n",
       "      <td>1199.00</td>\n",
       "    </tr>\n",
       "    <tr>\n",
       "      <th>4</th>\n",
       "      <td>16</td>\n",
       "      <td>512</td>\n",
       "      <td>15.6</td>\n",
       "      <td>669.01</td>\n",
       "    </tr>\n",
       "    <tr>\n",
       "      <th>...</th>\n",
       "      <td>...</td>\n",
       "      <td>...</td>\n",
       "      <td>...</td>\n",
       "      <td>...</td>\n",
       "    </tr>\n",
       "    <tr>\n",
       "      <th>2155</th>\n",
       "      <td>16</td>\n",
       "      <td>1000</td>\n",
       "      <td>17.3</td>\n",
       "      <td>2699.99</td>\n",
       "    </tr>\n",
       "    <tr>\n",
       "      <th>2156</th>\n",
       "      <td>16</td>\n",
       "      <td>1000</td>\n",
       "      <td>17.3</td>\n",
       "      <td>2899.99</td>\n",
       "    </tr>\n",
       "    <tr>\n",
       "      <th>2157</th>\n",
       "      <td>32</td>\n",
       "      <td>1000</td>\n",
       "      <td>17.3</td>\n",
       "      <td>3399.99</td>\n",
       "    </tr>\n",
       "    <tr>\n",
       "      <th>2158</th>\n",
       "      <td>16</td>\n",
       "      <td>1000</td>\n",
       "      <td>13.4</td>\n",
       "      <td>1899.99</td>\n",
       "    </tr>\n",
       "    <tr>\n",
       "      <th>2159</th>\n",
       "      <td>16</td>\n",
       "      <td>256</td>\n",
       "      <td>13.4</td>\n",
       "      <td>1699.99</td>\n",
       "    </tr>\n",
       "  </tbody>\n",
       "</table>\n",
       "<p>2160 rows × 4 columns</p>\n",
       "</div>"
      ],
      "text/plain": [
       "      ram  storage  screen  final_price\n",
       "0       8      512    15.6      1009.00\n",
       "1       8      256    15.6       299.00\n",
       "2       8      256    15.6       789.00\n",
       "3      16     1000    15.6      1199.00\n",
       "4      16      512    15.6       669.01\n",
       "...   ...      ...     ...          ...\n",
       "2155   16     1000    17.3      2699.99\n",
       "2156   16     1000    17.3      2899.99\n",
       "2157   32     1000    17.3      3399.99\n",
       "2158   16     1000    13.4      1899.99\n",
       "2159   16      256    13.4      1699.99\n",
       "\n",
       "[2160 rows x 4 columns]"
      ]
     },
     "execution_count": 221,
     "metadata": {},
     "output_type": "execute_result"
    }
   ],
   "source": [
    "filtered_df"
   ]
  },
  {
   "cell_type": "code",
   "execution_count": 222,
   "id": "b3e29942-95cd-4e42-8201-ebfd904fda40",
   "metadata": {},
   "outputs": [],
   "source": [
    "seed_values = [0, 1, 2, 3, 4, 5, 6, 7, 8, 9]\n",
    "rmse_scores = []\n",
    "\n",
    "\n",
    "for seed in seed_values:\n",
    "    idx = np.arange(n)\n",
    "    np.random.seed(seed)\n",
    "    np.random.shuffle(idx)\n",
    "\n",
    "    df_train = filtered_df.iloc[idx[:n_train]]\n",
    "    df_val = filtered_df.iloc[idx[n_train:n_val+n_train]]\n",
    "    df_test = filtered_df.iloc[idx[n_val + n_train:]]\n",
    "\n",
    "    y_train = df_train.final_price.values\n",
    "    y_val = df_val.final_price.values\n",
    "    y_test = df_test.final_price.values\n",
    "\n",
    "    del df_train['final_price']\n",
    "    del df_val['final_price']\n",
    "    del df_test['final_price']\n",
    "\n",
    "    df_train_0 = df_train.copy()\n",
    "    df_val_0 = df_val.copy()\n",
    "    df_test_0 = df_test.copy()\n",
    "\n",
    "    df_train_0['screen'] = df_train_0['screen'].fillna(0)\n",
    "    df_val_0['screen'] = df_val_0['screen'].fillna(0)\n",
    "    df_test_0['screen'] = df_test_0['screen'].fillna(0)\n",
    "\n",
    "    x_train_0 = df_train_0.values\n",
    "    x_val_0 = df_val_0.values\n",
    "\n",
    "    w0_0, w_0 = train_linear_regression(x_train_0, y_train)\n",
    "\n",
    "    y_pred_0 = w0_0 + x_val_0.dot(w_0)\n",
    "\n",
    "    rmse_score = rmse(y_val, y_pred_0)\n",
    "    rmse_scores.append(rmse_score)\n",
    "\n",
    "std_rmse = np.std(rmse_scores)"
   ]
  },
  {
   "cell_type": "code",
   "execution_count": 223,
   "id": "6aafcaff-5f49-49ee-a16b-2d066591ed0f",
   "metadata": {},
   "outputs": [
    {
     "data": {
      "text/plain": [
       "29.176"
      ]
     },
     "execution_count": 223,
     "metadata": {},
     "output_type": "execute_result"
    }
   ],
   "source": [
    "round(std_rmse,3)"
   ]
  },
  {
   "cell_type": "code",
   "execution_count": 229,
   "id": "4963d462-d143-4a1e-a737-63726c55b67c",
   "metadata": {},
   "outputs": [],
   "source": [
    "idx = np.arange(n)\n",
    "np.random.seed(9)\n",
    "np.random.shuffle(idx)\n",
    "\n",
    "df_train = filtered_df.iloc[idx[:n_train]]\n",
    "df_val = filtered_df.iloc[idx[n_train:n_val+n_train]]\n",
    "df_test = filtered_df.iloc[idx[n_val + n_train:]]\n",
    "\n",
    "y_train = df_train.final_price.values\n",
    "y_val = df_val.final_price.values\n",
    "y_test = df_test.final_price.values\n",
    "\n",
    "del df_train['final_price']\n",
    "del df_val['final_price']\n",
    "del df_test['final_price']\n",
    "\n",
    "df_train_0 = df_train.copy()\n",
    "df_val_0 = df_val.copy()\n",
    "df_test_0 = df_test.copy()\n",
    "\n",
    "df_train_0['screen'] = df_train_0['screen'].fillna(0)\n",
    "df_val_0['screen'] = df_val_0['screen'].fillna(0)\n",
    "df_test_0['screen'] = df_test_0['screen'].fillna(0)\n",
    "\n",
    "x_train_0 = df_train_0.values\n",
    "x_val_0 = df_val_0.values\n",
    "x_test_0 = df_test_0.values\n",
    "\n",
    "df_full_train = pd.concat([df_train_0, df_val_0])\n",
    "df_full_train = df_full_train.reset_index(drop=True)\n",
    "\n",
    "X_full_train = df_full_train.values\n",
    "\n",
    "y_full_train = np.concatenate([y_train, y_val])\n",
    "\n",
    "w0_0, w_0 = train_linear_regression_reg(X_full_train, y_full_train, r=0.001)\n",
    "\n",
    "y_pred_0 = w0_0 + x_test_0.dot(w_0)\n",
    "\n",
    "rmse_score = rmse(y_test, y_pred_0)"
   ]
  },
  {
   "cell_type": "code",
   "execution_count": 230,
   "id": "e1ae4fec-1c60-40a9-b766-e1d85fd10746",
   "metadata": {},
   "outputs": [
    {
     "data": {
      "text/plain": [
       "608.6099822049533"
      ]
     },
     "execution_count": 230,
     "metadata": {},
     "output_type": "execute_result"
    }
   ],
   "source": [
    "rmse_score"
   ]
  },
  {
   "cell_type": "code",
   "execution_count": null,
   "id": "b0877853-3b84-4730-a30b-ff7ac1df9637",
   "metadata": {},
   "outputs": [],
   "source": []
  }
 ],
 "metadata": {
  "kernelspec": {
   "display_name": "Python 3 (ipykernel)",
   "language": "python",
   "name": "python3"
  },
  "language_info": {
   "codemirror_mode": {
    "name": "ipython",
    "version": 3
   },
   "file_extension": ".py",
   "mimetype": "text/x-python",
   "name": "python",
   "nbconvert_exporter": "python",
   "pygments_lexer": "ipython3",
   "version": "3.9.19"
  }
 },
 "nbformat": 4,
 "nbformat_minor": 5
}
